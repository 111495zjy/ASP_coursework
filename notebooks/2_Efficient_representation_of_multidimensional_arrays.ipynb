{
  "cells": [
    {
      "cell_type": "markdown",
      "metadata": {
        "id": "view-in-github",
        "colab_type": "text"
      },
      "source": [
        "<a href=\"https://colab.research.google.com/github/111495zjy/ASP_coursework/blob/main/notebooks/2_Efficient_representation_of_multidimensional_arrays.ipynb\" target=\"_parent\"><img src=\"https://colab.research.google.com/assets/colab-badge.svg\" alt=\"Open In Colab\"/></a>"
      ]
    },
    {
      "cell_type": "code",
      "source": [
        "!git clone https://github.com/IlyaKisil/dpm-coursework.git"
      ],
      "metadata": {
        "id": "4pgQVfRqWFgV",
        "outputId": "de4f8ee9-9faf-4476-a207-9c93d2a4a88b",
        "colab": {
          "base_uri": "https://localhost:8080/"
        }
      },
      "execution_count": 1,
      "outputs": [
        {
          "output_type": "stream",
          "name": "stdout",
          "text": [
            "Cloning into 'dpm-coursework'...\n",
            "remote: Enumerating objects: 143, done.\u001b[K\n",
            "remote: Counting objects: 100% (10/10), done.\u001b[K\n",
            "remote: Compressing objects: 100% (10/10), done.\u001b[K\n",
            "remote: Total 143 (delta 3), reused 2 (delta 0), pack-reused 133 (from 1)\u001b[K\n",
            "Receiving objects: 100% (143/143), 3.38 MiB | 6.95 MiB/s, done.\n",
            "Resolving deltas: 100% (48/48), done.\n"
          ]
        }
      ]
    },
    {
      "cell_type": "code",
      "source": [
        "%cd /content/dpm-coursework\n",
        "\n",
        "!./boostrap-venv.sh"
      ],
      "metadata": {
        "id": "OY4jV7E0WHvr",
        "outputId": "aa74b588-00c2-4c0c-d8e2-62285fcbe341",
        "colab": {
          "base_uri": "https://localhost:8080/"
        }
      },
      "execution_count": 2,
      "outputs": [
        {
          "output_type": "stream",
          "name": "stdout",
          "text": [
            "/content/dpm-coursework\n",
            "./boostrap-venv.sh: line 7: conda: command not found\n",
            "./boostrap-venv.sh: line 11: conda: command not found\n",
            "Processing ./binder/coursework\n",
            "  Preparing metadata (setup.py) ... \u001b[?25l\u001b[?25hdone\n",
            "Requirement already satisfied: ipykernel in /usr/local/lib/python3.11/dist-packages (from coursework==0.1.1) (6.17.1)\n",
            "Requirement already satisfied: matplotlib in /usr/local/lib/python3.11/dist-packages (from coursework==0.1.1) (3.10.0)\n",
            "Requirement already satisfied: seaborn in /usr/local/lib/python3.11/dist-packages (from coursework==0.1.1) (0.13.2)\n",
            "Requirement already satisfied: numpy in /usr/local/lib/python3.11/dist-packages (from coursework==0.1.1) (2.0.2)\n",
            "Requirement already satisfied: pandas in /usr/local/lib/python3.11/dist-packages (from coursework==0.1.1) (2.2.2)\n",
            "Requirement already satisfied: scipy in /usr/local/lib/python3.11/dist-packages (from coursework==0.1.1) (1.14.1)\n",
            "Collecting hottbox (from coursework==0.1.1)\n",
            "  Downloading hottbox-0.3.2-py3-none-any.whl.metadata (5.5 kB)\n",
            "Requirement already satisfied: scikit-learn in /usr/local/lib/python3.11/dist-packages (from hottbox->coursework==0.1.1) (1.6.1)\n",
            "Requirement already satisfied: debugpy>=1.0 in /usr/local/lib/python3.11/dist-packages (from ipykernel->coursework==0.1.1) (1.8.0)\n",
            "Requirement already satisfied: ipython>=7.23.1 in /usr/local/lib/python3.11/dist-packages (from ipykernel->coursework==0.1.1) (7.34.0)\n",
            "Requirement already satisfied: jupyter-client>=6.1.12 in /usr/local/lib/python3.11/dist-packages (from ipykernel->coursework==0.1.1) (6.1.12)\n",
            "Requirement already satisfied: matplotlib-inline>=0.1 in /usr/local/lib/python3.11/dist-packages (from ipykernel->coursework==0.1.1) (0.1.7)\n",
            "Requirement already satisfied: nest-asyncio in /usr/local/lib/python3.11/dist-packages (from ipykernel->coursework==0.1.1) (1.6.0)\n",
            "Requirement already satisfied: packaging in /usr/local/lib/python3.11/dist-packages (from ipykernel->coursework==0.1.1) (24.2)\n",
            "Requirement already satisfied: psutil in /usr/local/lib/python3.11/dist-packages (from ipykernel->coursework==0.1.1) (5.9.5)\n",
            "Requirement already satisfied: pyzmq>=17 in /usr/local/lib/python3.11/dist-packages (from ipykernel->coursework==0.1.1) (24.0.1)\n",
            "Requirement already satisfied: tornado>=6.1 in /usr/local/lib/python3.11/dist-packages (from ipykernel->coursework==0.1.1) (6.4.2)\n",
            "Requirement already satisfied: traitlets>=5.1.0 in /usr/local/lib/python3.11/dist-packages (from ipykernel->coursework==0.1.1) (5.7.1)\n",
            "Requirement already satisfied: contourpy>=1.0.1 in /usr/local/lib/python3.11/dist-packages (from matplotlib->coursework==0.1.1) (1.3.1)\n",
            "Requirement already satisfied: cycler>=0.10 in /usr/local/lib/python3.11/dist-packages (from matplotlib->coursework==0.1.1) (0.12.1)\n",
            "Requirement already satisfied: fonttools>=4.22.0 in /usr/local/lib/python3.11/dist-packages (from matplotlib->coursework==0.1.1) (4.56.0)\n",
            "Requirement already satisfied: kiwisolver>=1.3.1 in /usr/local/lib/python3.11/dist-packages (from matplotlib->coursework==0.1.1) (1.4.8)\n",
            "Requirement already satisfied: pillow>=8 in /usr/local/lib/python3.11/dist-packages (from matplotlib->coursework==0.1.1) (11.1.0)\n",
            "Requirement already satisfied: pyparsing>=2.3.1 in /usr/local/lib/python3.11/dist-packages (from matplotlib->coursework==0.1.1) (3.2.1)\n",
            "Requirement already satisfied: python-dateutil>=2.7 in /usr/local/lib/python3.11/dist-packages (from matplotlib->coursework==0.1.1) (2.8.2)\n",
            "Requirement already satisfied: pytz>=2020.1 in /usr/local/lib/python3.11/dist-packages (from pandas->coursework==0.1.1) (2025.1)\n",
            "Requirement already satisfied: tzdata>=2022.7 in /usr/local/lib/python3.11/dist-packages (from pandas->coursework==0.1.1) (2025.1)\n",
            "Requirement already satisfied: setuptools>=18.5 in /usr/local/lib/python3.11/dist-packages (from ipython>=7.23.1->ipykernel->coursework==0.1.1) (75.1.0)\n",
            "Collecting jedi>=0.16 (from ipython>=7.23.1->ipykernel->coursework==0.1.1)\n",
            "  Downloading jedi-0.19.2-py2.py3-none-any.whl.metadata (22 kB)\n",
            "Requirement already satisfied: decorator in /usr/local/lib/python3.11/dist-packages (from ipython>=7.23.1->ipykernel->coursework==0.1.1) (4.4.2)\n",
            "Requirement already satisfied: pickleshare in /usr/local/lib/python3.11/dist-packages (from ipython>=7.23.1->ipykernel->coursework==0.1.1) (0.7.5)\n",
            "Requirement already satisfied: prompt-toolkit!=3.0.0,!=3.0.1,<3.1.0,>=2.0.0 in /usr/local/lib/python3.11/dist-packages (from ipython>=7.23.1->ipykernel->coursework==0.1.1) (3.0.50)\n",
            "Requirement already satisfied: pygments in /usr/local/lib/python3.11/dist-packages (from ipython>=7.23.1->ipykernel->coursework==0.1.1) (2.18.0)\n",
            "Requirement already satisfied: backcall in /usr/local/lib/python3.11/dist-packages (from ipython>=7.23.1->ipykernel->coursework==0.1.1) (0.2.0)\n",
            "Requirement already satisfied: pexpect>4.3 in /usr/local/lib/python3.11/dist-packages (from ipython>=7.23.1->ipykernel->coursework==0.1.1) (4.9.0)\n",
            "Requirement already satisfied: jupyter-core>=4.6.0 in /usr/local/lib/python3.11/dist-packages (from jupyter-client>=6.1.12->ipykernel->coursework==0.1.1) (5.7.2)\n",
            "Requirement already satisfied: six>=1.5 in /usr/local/lib/python3.11/dist-packages (from python-dateutil>=2.7->matplotlib->coursework==0.1.1) (1.17.0)\n",
            "Requirement already satisfied: joblib>=1.2.0 in /usr/local/lib/python3.11/dist-packages (from scikit-learn->hottbox->coursework==0.1.1) (1.4.2)\n",
            "Requirement already satisfied: threadpoolctl>=3.1.0 in /usr/local/lib/python3.11/dist-packages (from scikit-learn->hottbox->coursework==0.1.1) (3.6.0)\n",
            "Requirement already satisfied: parso<0.9.0,>=0.8.4 in /usr/local/lib/python3.11/dist-packages (from jedi>=0.16->ipython>=7.23.1->ipykernel->coursework==0.1.1) (0.8.4)\n",
            "Requirement already satisfied: platformdirs>=2.5 in /usr/local/lib/python3.11/dist-packages (from jupyter-core>=4.6.0->jupyter-client>=6.1.12->ipykernel->coursework==0.1.1) (4.3.6)\n",
            "Requirement already satisfied: ptyprocess>=0.5 in /usr/local/lib/python3.11/dist-packages (from pexpect>4.3->ipython>=7.23.1->ipykernel->coursework==0.1.1) (0.7.0)\n",
            "Requirement already satisfied: wcwidth in /usr/local/lib/python3.11/dist-packages (from prompt-toolkit!=3.0.0,!=3.0.1,<3.1.0,>=2.0.0->ipython>=7.23.1->ipykernel->coursework==0.1.1) (0.2.13)\n",
            "Downloading hottbox-0.3.2-py3-none-any.whl (113 kB)\n",
            "\u001b[2K   \u001b[90m━━━━━━━━━━━━━━━━━━━━━━━━━━━━━━━━━━━━━━━━\u001b[0m \u001b[32m113.6/113.6 kB\u001b[0m \u001b[31m5.0 MB/s\u001b[0m eta \u001b[36m0:00:00\u001b[0m\n",
            "\u001b[?25hDownloading jedi-0.19.2-py2.py3-none-any.whl (1.6 MB)\n",
            "\u001b[2K   \u001b[90m━━━━━━━━━━━━━━━━━━━━━━━━━━━━━━━━━━━━━━━━\u001b[0m \u001b[32m1.6/1.6 MB\u001b[0m \u001b[31m32.8 MB/s\u001b[0m eta \u001b[36m0:00:00\u001b[0m\n",
            "\u001b[?25hBuilding wheels for collected packages: coursework\n",
            "  Building wheel for coursework (setup.py) ... \u001b[?25l\u001b[?25hdone\n",
            "  Created wheel for coursework: filename=coursework-0.1.1-py3-none-any.whl size=166608 sha256=ffff965b6bc3a86f23a812cb92388f54f47645d5ccc54a6e6a52d7ec92ffc4f2\n",
            "  Stored in directory: /tmp/pip-ephem-wheel-cache-x_cl7fuz/wheels/27/4a/5d/4506a6e044a1c3d7b88bb81db683a16b6a1fb55a0614720dd3\n",
            "Successfully built coursework\n",
            "Installing collected packages: jedi, hottbox, coursework\n",
            "Successfully installed coursework-0.1.1 hottbox-0.3.2 jedi-0.19.2\n",
            "0.00s - Debugger warning: It seems that frozen modules are being used, which may\n",
            "0.00s - make the debugger miss breakpoints. Please pass -Xfrozen_modules=off\n",
            "0.00s - to python to disable frozen modules.\n",
            "0.00s - Note: Debugging will proceed. Set PYDEVD_DISABLE_FILE_VALIDATION=1 to disable this validation.\n",
            "Installed kernelspec dpm-coursework in /root/.local/share/jupyter/kernels/dpm-coursework\n",
            "./boostrap-venv.sh: line 13: conda: command not found\n"
          ]
        }
      ]
    },
    {
      "cell_type": "code",
      "execution_count": 3,
      "metadata": {
        "id": "3QOxoO6TV_PO"
      },
      "outputs": [],
      "source": [
        "%load_ext autoreload\n",
        "%autoreload 2\n",
        "%matplotlib inline"
      ]
    },
    {
      "cell_type": "code",
      "execution_count": 4,
      "metadata": {
        "id": "Jc3MXRMDV_PT"
      },
      "outputs": [],
      "source": [
        "import numpy as np\n",
        "import matplotlib.pyplot as plt\n",
        "from hottbox.core import Tensor, TensorCPD, TensorTKD"
      ]
    },
    {
      "cell_type": "markdown",
      "metadata": {
        "toc-hr-collapsed": false,
        "id": "nNw5JoEqV_PU"
      },
      "source": [
        "[Return to Table of Contents](./0_Table_of_contents.ipynb)"
      ]
    },
    {
      "cell_type": "markdown",
      "metadata": {
        "id": "jBI4stEUV_PY"
      },
      "source": [
        "# Efficient representation of multidimensional arrays\n",
        "\n",
        "A tensor of order $N$ is said to be of **rank-1** if it can be represented as an outer product of $N$ vectors.\n",
        "\n",
        "The figure below illustrates an example of a rank-1 tensor $\\mathbf{\\underline{X}}$ and provides intuition on how to compute the operation of outer product:\n",
        "\n",
        "<img src=\"https://github.com/IlyaKisil/dpm-coursework/blob/master/notebooks/imgs/outerproduct.png?raw=1\" alt=\"Drawing\" style=\"width: 500px;\"/>\n"
      ]
    },
    {
      "cell_type": "markdown",
      "metadata": {
        "toc-hr-collapsed": false,
        "id": "SkTcq5BIV_PY"
      },
      "source": [
        "# Kruskal representation\n",
        "\n",
        "For a third order tensor or rank $R$ the Kruskal representation can be expressed as follows:\n",
        "\n",
        "$$\n",
        "\\mathbf{\\underline{X}} = \\sum_{r=1}^R \\mathbf{\\underline{X}}_r = \\sum_{r=1}^R \\lambda_{r} \\cdot \\mathbf{a}_r \\circ \\mathbf{b}_r \\circ \\mathbf{c}_r\n",
        "$$\n",
        "\n",
        "The vectors $\\mathbf{a}_r, \\mathbf{b}_r$ and $\\mathbf{c}_r$ are oftentime combined into the corresponding **factor matrices**:\n",
        "\n",
        "$$\n",
        "\\mathbf{A} = \\Big[ \\mathbf{a}_1 \\cdots \\mathbf{a}_R \\Big] \\quad\n",
        "\\mathbf{B} = \\Big[ \\mathbf{b}_1 \\cdots \\mathbf{b}_R \\Big] \\quad\n",
        "\\mathbf{C} = \\Big[ \\mathbf{c}_1 \\cdots \\mathbf{c}_R \\Big] \\quad\n",
        "$$\n",
        "\n",
        "Thus, if we employ the mode-$n$ product, the **Kruskal representation** takes the form:\n",
        "\n",
        "$$\n",
        "\\mathbf{\\underline{X}} = \\mathbf{\\underline{\\Lambda}} \\times_1 \\mathbf{A} \\times_2 \\mathbf{B} \\times_3 \\mathbf{C} = \\Big[\\mathbf{\\underline{\\Lambda}}; \\mathbf{A}, \\mathbf{B}, \\mathbf{C} \\Big]\n",
        "$$\n",
        "\n",
        "where the elements on the super-diagonal of the core tensor $\\mathbf{\\underline{\\Lambda}}$ are occupied by the values $\\lambda_r$ and all other entries are equal to zero. This can be visualised as shown on figure below:\n",
        "\n",
        "<img src=\"https://github.com/IlyaKisil/dpm-coursework/blob/master/notebooks/imgs/TensorCPD.png?raw=1\" alt=\"Drawing\" style=\"width: 500px;\"/>\n"
      ]
    },
    {
      "cell_type": "code",
      "execution_count": 5,
      "metadata": {
        "id": "Eiw8ksqSV_PZ",
        "outputId": "83a11f2b-6be1-431e-ac05-dce06b952372",
        "colab": {
          "base_uri": "https://localhost:8080/"
        }
      },
      "outputs": [
        {
          "output_type": "stream",
          "name": "stdout",
          "text": [
            "Kruskal representation of a tensor with rank=(2,).\n",
            "Factor matrices represent properties: ['mode-0', 'mode-1', 'mode-2']\n",
            "With corresponding latent components described by (3, 4, 5) features respectively.\n"
          ]
        }
      ],
      "source": [
        "# Create factor matrices\n",
        "I, J, K = 3, 4, 5\n",
        "R = 2\n",
        "\n",
        "A = np.arange(I * R).reshape(I, R)\n",
        "B = np.arange(J * R).reshape(J, R)\n",
        "C = np.arange(K * R).reshape(K, R)\n",
        "\n",
        "# Create core values\n",
        "values = np.arange(R)\n",
        "\n",
        "# Create Kruskal representation\n",
        "tensor_cpd = TensorCPD(fmat=[A, B, C], core_values=values)\n",
        "\n",
        "# Result preview\n",
        "print(tensor_cpd)"
      ]
    },
    {
      "cell_type": "markdown",
      "metadata": {
        "id": "bxpCm7lPV_Pb"
      },
      "source": [
        "## **Assigment 1**\n",
        "\n",
        "1. What is the order of a tensor if its Kruskal representation consists of 5 factor matrices.\n",
        "**加粗文字**\n",
        "2. What is the order of a tensor if its Kruskal representation consists of core tensor which has only 5 elements on the super-diagonal.\n",
        "\n",
        "3. For a 3-rd order tensor that consists of 500 elements, provide three different Kruskal representations.\n",
        "\n",
        "4. For a tensor that consits of 1000 elements, provide three Kruskal representations, each of which should have different number of factor matrices.\n",
        "\n",
        "5. For a 4-th order tensor that consists of 2401 elements, provide Kruskal representation if its core tensor consisting of 81 elements.\n"
      ]
    },
    {
      "cell_type": "markdown",
      "metadata": {
        "id": "jUgzQQRhV_Pb"
      },
      "source": [
        "### Solution: Part 1"
      ]
    },
    {
      "cell_type": "code",
      "execution_count": 6,
      "metadata": {
        "id": "Dt8WboYSV_Pc",
        "outputId": "6c83b759-3464-4117-ca14-73ea4d6ee8ea",
        "colab": {
          "base_uri": "https://localhost:8080/"
        }
      },
      "outputs": [
        {
          "output_type": "stream",
          "name": "stdout",
          "text": [
            "5\n"
          ]
        }
      ],
      "source": [
        "answer_1_1 = \"5\"  # use this variable for your answer\n",
        "\n",
        "print(answer_1_1)"
      ]
    },
    {
      "cell_type": "markdown",
      "metadata": {
        "id": "aCIicwaIV_Pd"
      },
      "source": [
        "### Solution: Part 2"
      ]
    },
    {
      "cell_type": "code",
      "execution_count": 22,
      "metadata": {
        "id": "V1LlEgytV_Pd",
        "outputId": "04517abd-287a-4169-f730-b22ec22aa93f",
        "colab": {
          "base_uri": "https://localhost:8080/"
        }
      },
      "outputs": [
        {
          "output_type": "stream",
          "name": "stdout",
          "text": [
            "uncertain, depending on rank\n"
          ]
        }
      ],
      "source": [
        "answer_1_2 = \"uncertain, depending on rank\"  # use this variable for your answer\n",
        "\n",
        "print(answer_1_2)"
      ]
    },
    {
      "cell_type": "markdown",
      "metadata": {
        "id": "JDXih1GXV_Pe"
      },
      "source": [
        "### Solution: Part 3"
      ]
    },
    {
      "cell_type": "code",
      "execution_count": 14,
      "metadata": {
        "id": "Pl00pn-JV_Pe"
      },
      "outputs": [],
      "source": [
        "# Create factor matrices\n",
        "I, J, K = 10, 2, 25\n",
        "R = 2\n",
        "\n",
        "A = np.arange(I * R).reshape(I, R)\n",
        "B = np.arange(J * R).reshape(J, R)\n",
        "C = np.arange(K * R).reshape(K, R)\n",
        "\n",
        "# Create core values\n",
        "values = np.arange(R)\n",
        "\n",
        "# Create Kruskal representation\n",
        "tensor_cpd = TensorCPD(fmat=[A, B, C], core_values=values)\n",
        "# Result preview\n",
        "print(tensor_cpd)\n"
      ]
    },
    {
      "cell_type": "code",
      "execution_count": null,
      "metadata": {
        "id": "BmSOH1_KV_Pe"
      },
      "outputs": [],
      "source": [
        "# Second representation\n",
        "# Create factor matrices\n",
        "I, J, K = 5, 4, 25\n",
        "R = 3\n",
        "\n",
        "A = np.arange(I * R).reshape(I, R)\n",
        "B = np.arange(J * R).reshape(J, R)\n",
        "C = np.arange(K * R).reshape(K, R)\n",
        "\n",
        "# Create core values\n",
        "values = np.arange(R)\n",
        "\n",
        "# Create Kruskal representation\n",
        "tensor_cpd = TensorCPD(fmat=[A, B, C], core_values=values)\n",
        "\n",
        "# Result preview\n",
        "print(tensor_cpd)"
      ]
    },
    {
      "cell_type": "code",
      "execution_count": 15,
      "metadata": {
        "id": "dKdREJO9V_Pf",
        "outputId": "13686e01-d7f7-4f6c-b3e1-f352111db8c3",
        "colab": {
          "base_uri": "https://localhost:8080/"
        }
      },
      "outputs": [
        {
          "output_type": "stream",
          "name": "stdout",
          "text": [
            "Kruskal representation of a tensor with rank=(2,).\n",
            "Factor matrices represent properties: ['mode-0', 'mode-1', 'mode-2']\n",
            "With corresponding latent components described by (5, 2, 50) features respectively.\n"
          ]
        }
      ],
      "source": [
        "# Third representation\n",
        "# Create factor matrices\n",
        "I, J, K = 5, 2, 50\n",
        "R = 2\n",
        "\n",
        "A = np.arange(I * R).reshape(I, R)\n",
        "B = np.arange(J * R).reshape(J, R)\n",
        "C = np.arange(K * R).reshape(K, R)\n",
        "\n",
        "# Create core values\n",
        "values = np.arange(R)\n",
        "\n",
        "# Create Kruskal representation\n",
        "tensor_cpd = TensorCPD(fmat=[A, B, C], core_values=values)\n",
        "\n",
        "# Result preview\n",
        "print(tensor_cpd)"
      ]
    },
    {
      "cell_type": "markdown",
      "metadata": {
        "toc-hr-collapsed": false,
        "id": "v0Jqe6XYV_Pf"
      },
      "source": [
        "### Solution: Part 4"
      ]
    },
    {
      "cell_type": "code",
      "execution_count": null,
      "metadata": {
        "id": "cIC_IRgxV_Pf"
      },
      "outputs": [],
      "source": [
        "# First representation\n",
        "# Create factor matrices\n",
        "I, J, K = 10, 2, 50\n",
        "R = 2\n",
        "\n",
        "A = np.arange(I * R).reshape(I, R)\n",
        "B = np.arange(J * R).reshape(J, R)\n",
        "C = np.arange(K * R).reshape(K, R)\n",
        "\n",
        "# Create core values\n",
        "values = np.arange(R)\n",
        "\n",
        "# Create Kruskal representation\n",
        "tensor_cpd = TensorCPD(fmat=[A, B, C], core_values=values)\n",
        "\n",
        "# Result preview\n",
        "print(tensor_cpd)"
      ]
    },
    {
      "cell_type": "code",
      "execution_count": 16,
      "metadata": {
        "id": "XUUP7P5uV_Pg",
        "outputId": "ca416bec-29e7-4c50-9e88-b64a8f31c1ec",
        "colab": {
          "base_uri": "https://localhost:8080/"
        }
      },
      "outputs": [
        {
          "output_type": "stream",
          "name": "stdout",
          "text": [
            "Kruskal representation of a tensor with rank=(2,).\n",
            "Factor matrices represent properties: ['mode-0', 'mode-1']\n",
            "With corresponding latent components described by (50, 20) features respectively.\n"
          ]
        }
      ],
      "source": [
        "# Second representation\n",
        "# Create factor matrices\n",
        "I, J = 50, 20\n",
        "R = 2\n",
        "\n",
        "A = np.arange(I * R).reshape(I, R)\n",
        "B = np.arange(J * R).reshape(J, R)\n",
        "\n",
        "# Create core values\n",
        "values = np.arange(R)\n",
        "\n",
        "# Create Kruskal representation\n",
        "tensor_cpd = TensorCPD(fmat=[A, B], core_values=values)\n",
        "\n",
        "# Result preview\n",
        "print(tensor_cpd)"
      ]
    },
    {
      "cell_type": "code",
      "execution_count": 18,
      "metadata": {
        "id": "sc32HmWdV_Pg",
        "outputId": "4a68bed6-9338-497c-b9b9-f49ce946e2a8",
        "colab": {
          "base_uri": "https://localhost:8080/"
        }
      },
      "outputs": [
        {
          "output_type": "stream",
          "name": "stdout",
          "text": [
            "Kruskal representation of a tensor with rank=(2,).\n",
            "Factor matrices represent properties: ['mode-0', 'mode-1', 'mode-2', 'mode-3']\n",
            "With corresponding latent components described by (25, 4, 5, 2) features respectively.\n"
          ]
        }
      ],
      "source": [
        "# Third representation\n",
        "# Create factor matrices\n",
        "I, J, K, M= 25, 4, 5, 2\n",
        "R = 2\n",
        "\n",
        "A = np.arange(I * R).reshape(I, R)\n",
        "B = np.arange(J * R).reshape(J, R)\n",
        "C = np.arange(K * R).reshape(K, R)\n",
        "D = np.arange(M * R).reshape(M, R)\n",
        "\n",
        "# Create core values\n",
        "values = np.arange(R)\n",
        "\n",
        "# Create Kruskal representation\n",
        "tensor_cpd = TensorCPD(fmat=[A, B,C,D], core_values=values)\n",
        "\n",
        "# Result preview\n",
        "print(tensor_cpd)"
      ]
    },
    {
      "cell_type": "markdown",
      "metadata": {
        "id": "JkYRZToiV_Pg"
      },
      "source": [
        "### Solution: Part 5"
      ]
    },
    {
      "cell_type": "code",
      "execution_count": 19,
      "metadata": {
        "id": "IlBYqzOyV_Ph",
        "outputId": "08188b45-8caf-463c-e390-0401bf452724",
        "colab": {
          "base_uri": "https://localhost:8080/"
        }
      },
      "outputs": [
        {
          "output_type": "stream",
          "name": "stdout",
          "text": [
            "Kruskal representation of a tensor with rank=(3,).\n",
            "Factor matrices represent properties: ['mode-0', 'mode-1', 'mode-2', 'mode-3']\n",
            "With corresponding latent components described by (7, 7, 7, 7) features respectively.\n"
          ]
        }
      ],
      "source": [
        "# Provide Kruskal representation here\n",
        "I, J, K, M= 7,7,7,7\n",
        "R = 3\n",
        "\n",
        "A = np.arange(I * R).reshape(I, R)\n",
        "B = np.arange(J * R).reshape(J, R)\n",
        "C = np.arange(K * R).reshape(K, R)\n",
        "D = np.arange(M * R).reshape(M, R)\n",
        "\n",
        "# Create core values\n",
        "values = np.arange(R)\n",
        "\n",
        "# Create Kruskal representation\n",
        "tensor_cpd = TensorCPD(fmat=[A, B,C,D], core_values=values)\n",
        "\n",
        "# Result preview\n",
        "print(tensor_cpd)"
      ]
    },
    {
      "cell_type": "markdown",
      "metadata": {
        "toc-hr-collapsed": false,
        "id": "-wzOlXiJV_Ph"
      },
      "source": [
        "# Tucker representation\n",
        "\n"
      ]
    },
    {
      "cell_type": "markdown",
      "metadata": {
        "id": "Kd0ktHxmV_Ph"
      },
      "source": [
        "<img src=\"https://github.com/IlyaKisil/dpm-coursework/blob/master/notebooks/imgs/TensorTKD.png?raw=1\" alt=\"Drawing\" style=\"width: 600px;\"/>\n",
        "\n",
        "For a tensor $\\mathbf{\\underline{X}} \\in \\mathbb{R}^{I \\times J \\times K}$ illustrated above, the **Tucker form** represents the tensor in hand through a dense core tensor $\\mathbf{\\underline{G}}$ with multi-linear rank ($Q, R, P$) and a set of accompanying factor matrices $\\mathbf{A} \\in \\mathbb{R}^{I \\times Q}, \\mathbf{B} \\in \\mathbb{R}^{J \\times R}$ and $\\mathbf{C} \\in \\mathbb{R}^{K \\times P}$.\n",
        "\n",
        "$$\n",
        "\\mathbf{\\underline{X}} = \\sum_{q=1}^Q \\sum_{r=1}^R \\sum_{p=1}^P \\mathbf{\\underline{X}}_{qrp} = \\sum_{q=1}^Q \\sum_{r=1}^R \\sum_{p=1}^P g_{qrp} \\cdot \\mathbf{a}_q \\circ \\mathbf{b}_r \\circ \\mathbf{c}_p\n",
        "$$\n",
        "\n",
        "The Tucker form of a tensor is closely related to the Kruskal representation and can be expressed through a\n",
        "sequence of mode-$n$ products in a similar way, that is\n",
        "\n",
        "$$\n",
        "\\mathbf{\\underline{X}} = \\mathbf{\\underline{G}} \\times_1 \\mathbf{A} \\times_2 \\mathbf{B} \\times_3 \\mathbf{C} = \\Big[\\mathbf{\\underline{G}}; \\mathbf{A}, \\mathbf{B}, \\mathbf{C} \\Big]\n",
        "$$\n"
      ]
    },
    {
      "cell_type": "code",
      "execution_count": 21,
      "metadata": {
        "id": "2QHMljfTV_Ph",
        "outputId": "eef53d72-3bcd-4ca8-8d64-640baa7b9dfc",
        "colab": {
          "base_uri": "https://localhost:8080/"
        }
      },
      "outputs": [
        {
          "output_type": "stream",
          "name": "stdout",
          "text": [
            "Tucker representation of a tensor with multi-linear rank=(2, 3, 4).\n",
            "Factor matrices represent properties: ['mode-0', 'mode-1', 'mode-2']\n",
            "With corresponding latent components described by (5, 6, 7) features respectively.\n"
          ]
        }
      ],
      "source": [
        "# Create factor matrices\n",
        "I, J, K = 5, 6, 7  # define shape of the tensor in full form\n",
        "Q, R, P = 2, 3, 4  # define multi-linear rank of the tensor in Tucker form\n",
        "\n",
        "A = np.arange(I * Q).reshape(I, Q)\n",
        "B = np.arange(J * R).reshape(J, R)\n",
        "C = np.arange(K * P).reshape(K, P)\n",
        "\n",
        "# Create core values\n",
        "values = np.arange(Q * R * P).reshape(Q, R, P)\n",
        "\n",
        "# Create Tucker representation\n",
        "tensor_tkd = TensorTKD(fmat=[A, B, C], core_values=values)\n",
        "\n",
        "# Result preview\n",
        "print(tensor_tkd)"
      ]
    },
    {
      "cell_type": "markdown",
      "metadata": {
        "id": "i_tShffDV_Ph"
      },
      "source": [
        "## **Assigment 2**\n",
        "\n",
        "1. Core tensor of a Tucker representation consists of 1848 elements. Explain what tensor order should a tensor have to able to be represented in such form.\n",
        "\n",
        "2. For a 4-th order tensor that consists of 1000 elements, provide three different Tucker representations.\n",
        "\n",
        "3. For a 3-rd order tensor that consists of 500 elements, provide three different Tucker representations given that its core tensor consists of 42 elements.\n",
        "\n",
        "4. Provide an intuition behind the main difference between the Tucker and Kruskal representations.\n"
      ]
    },
    {
      "cell_type": "markdown",
      "metadata": {
        "id": "e9U45WshV_Ph"
      },
      "source": [
        "### Solution: Part 1"
      ]
    },
    {
      "cell_type": "code",
      "execution_count": 24,
      "metadata": {
        "id": "-Na9tTiSV_Ph",
        "outputId": "16616ff2-959d-462a-d9c2-9e1241667cc3",
        "colab": {
          "base_uri": "https://localhost:8080/"
        }
      },
      "outputs": [
        {
          "output_type": "stream",
          "name": "stdout",
          "text": [
            "2,3,4,5,6. Because 1848 = 2*2*2*3*7*11. So it the order should lower than 6\n"
          ]
        }
      ],
      "source": [
        "answer_2_1 = \"2,3,4,5,6. Because 1848 = 2*2*2*3*7*11. So it the order should lower than 6\"  # use this variable for your answer\n",
        "\n",
        "print(answer_2_1)"
      ]
    },
    {
      "cell_type": "markdown",
      "metadata": {
        "id": "yH56hS1RV_Ph"
      },
      "source": [
        "### Solution: Part 2"
      ]
    },
    {
      "cell_type": "code",
      "execution_count": 27,
      "metadata": {
        "id": "nM_1KOykV_Pi",
        "outputId": "2e2dc1a1-d5fb-495a-8c9e-ea57ccadf204",
        "colab": {
          "base_uri": "https://localhost:8080/"
        }
      },
      "outputs": [
        {
          "output_type": "stream",
          "name": "stdout",
          "text": [
            "Tucker representation of a tensor with multi-linear rank=(2, 3, 4, 5).\n",
            "Factor matrices represent properties: ['mode-0', 'mode-1', 'mode-2', 'mode-3']\n",
            "With corresponding latent components described by (5, 5, 4, 10) features respectively.\n"
          ]
        }
      ],
      "source": [
        "# First representation\n",
        "# Create factor matrices\n",
        "I, J, K, M = 5, 5, 4, 10  # define shape of the tensor in full form\n",
        "Q, R, P, N= 2, 3, 4, 5  # define multi-linear rank of the tensor in Tucker form\n",
        "\n",
        "A = np.arange(I * Q).reshape(I, Q)\n",
        "B = np.arange(J * R).reshape(J, R)\n",
        "C = np.arange(K * P).reshape(K, P)\n",
        "D = np.arange(M * N).reshape(M, N)\n",
        "# Create core values\n",
        "values = np.arange(Q * R * P *N).reshape(Q, R, P, N)\n",
        "\n",
        "# Create Tucker representation\n",
        "tensor_tkd = TensorTKD(fmat=[A, B, C, D], core_values=values)\n",
        "\n",
        "# Result preview\n",
        "print(tensor_tkd)"
      ]
    },
    {
      "cell_type": "code",
      "execution_count": 28,
      "metadata": {
        "id": "PjGvT8uoV_Pi",
        "outputId": "1ecc2d4f-b414-477e-9a42-8699e0079642",
        "colab": {
          "base_uri": "https://localhost:8080/"
        }
      },
      "outputs": [
        {
          "output_type": "stream",
          "name": "stdout",
          "text": [
            "Tucker representation of a tensor with multi-linear rank=(2, 3, 2, 5).\n",
            "Factor matrices represent properties: ['mode-0', 'mode-1', 'mode-2', 'mode-3']\n",
            "With corresponding latent components described by (5, 10, 2, 10) features respectively.\n"
          ]
        }
      ],
      "source": [
        "# Second representation\n",
        "# Create factor matrices\n",
        "I, J, K, M = 5, 10, 2, 10  # define shape of the tensor in full form\n",
        "Q, R, P, N= 2, 3, 2, 5  # define multi-linear rank of the tensor in Tucker form\n",
        "\n",
        "A = np.arange(I * Q).reshape(I, Q)\n",
        "B = np.arange(J * R).reshape(J, R)\n",
        "C = np.arange(K * P).reshape(K, P)\n",
        "D = np.arange(M * N).reshape(M, N)\n",
        "# Create core values\n",
        "values = np.arange(Q * R * P *N).reshape(Q, R, P, N)\n",
        "\n",
        "# Create Tucker representation\n",
        "tensor_tkd = TensorTKD(fmat=[A, B, C, D], core_values=values)\n",
        "\n",
        "# Result preview\n",
        "print(tensor_tkd)"
      ]
    },
    {
      "cell_type": "code",
      "execution_count": 29,
      "metadata": {
        "id": "seGMsJyPV_Pi",
        "outputId": "bbc0a410-7b04-4be0-86a9-2fc4db57e187",
        "colab": {
          "base_uri": "https://localhost:8080/"
        }
      },
      "outputs": [
        {
          "output_type": "stream",
          "name": "stdout",
          "text": [
            "Tucker representation of a tensor with multi-linear rank=(2, 3, 2, 5).\n",
            "Factor matrices represent properties: ['mode-0', 'mode-1', 'mode-2', 'mode-3']\n",
            "With corresponding latent components described by (5, 5, 2, 20) features respectively.\n"
          ]
        }
      ],
      "source": [
        "# Third representation\n",
        "# Create factor matrices\n",
        "I, J, K, M = 5, 5, 2, 20  # define shape of the tensor in full form\n",
        "Q, R, P, N= 2, 3, 2, 5  # define multi-linear rank of the tensor in Tucker form\n",
        "\n",
        "A = np.arange(I * Q).reshape(I, Q)\n",
        "B = np.arange(J * R).reshape(J, R)\n",
        "C = np.arange(K * P).reshape(K, P)\n",
        "D = np.arange(M * N).reshape(M, N)\n",
        "# Create core values\n",
        "values = np.arange(Q * R * P *N).reshape(Q, R, P, N)\n",
        "\n",
        "# Create Tucker representation\n",
        "tensor_tkd = TensorTKD(fmat=[A, B, C, D], core_values=values)\n",
        "\n",
        "# Result preview\n",
        "print(tensor_tkd)"
      ]
    },
    {
      "cell_type": "markdown",
      "metadata": {
        "id": "5pj7_JqOV_Pi"
      },
      "source": [
        "### Solution: Part 3"
      ]
    },
    {
      "cell_type": "code",
      "execution_count": null,
      "metadata": {
        "id": "dxmna4u_V_Pj"
      },
      "outputs": [],
      "source": [
        "# First representation\n",
        "# Create factor matrices\n",
        "I, J, K = 5, 5, 20  # define shape of the tensor in full form\n",
        "Q, R, P = 2, 3, 7  # define multi-linear rank of the tensor in Tucker form\n",
        "\n",
        "A = np.arange(I * Q).reshape(I, Q)\n",
        "B = np.arange(J * R).reshape(J, R)\n",
        "C = np.arange(K * P).reshape(K, P)\n",
        "\n",
        "# Create core values\n",
        "values = np.arange(Q * R * P).reshape(Q, R, P)\n",
        "\n",
        "# Create Tucker representation\n",
        "tensor_tkd = TensorTKD(fmat=[A, B, C], core_values=values)\n",
        "\n",
        "# Result preview\n",
        "print(tensor_tkd)"
      ]
    },
    {
      "cell_type": "code",
      "execution_count": null,
      "metadata": {
        "id": "5Wgn1xFoV_Pj"
      },
      "outputs": [],
      "source": [
        "# Second representation\n",
        "# Create factor matrices\n",
        "I, J, K = 5, 5, 20  # define shape of the tensor in full form\n",
        "Q, R, P = 3, 2, 7  # define multi-linear rank of the tensor in Tucker form\n",
        "\n",
        "A = np.arange(I * Q).reshape(I, Q)\n",
        "B = np.arange(J * R).reshape(J, R)\n",
        "C = np.arange(K * P).reshape(K, P)\n",
        "\n",
        "# Create core values\n",
        "values = np.arange(Q * R * P).reshape(Q, R, P)\n",
        "\n",
        "# Create Tucker representation\n",
        "tensor_tkd = TensorTKD(fmat=[A, B, C], core_values=values)\n",
        "\n",
        "# Result preview\n",
        "print(tensor_tkd)"
      ]
    },
    {
      "cell_type": "code",
      "execution_count": null,
      "metadata": {
        "id": "9BSXAKj_V_Pj"
      },
      "outputs": [],
      "source": [
        "# Third representation\n",
        "# Create factor matrices\n",
        "I, J, K = 5, 5, 20  # define shape of the tensor in full form\n",
        "Q, R, P = 3, 7, 2  # define multi-linear rank of the tensor in Tucker form\n",
        "\n",
        "A = np.arange(I * Q).reshape(I, Q)\n",
        "B = np.arange(J * R).reshape(J, R)\n",
        "C = np.arange(K * P).reshape(K, P)\n",
        "\n",
        "# Create core values\n",
        "values = np.arange(Q * R * P).reshape(Q, R, P)\n",
        "\n",
        "# Create Tucker representation\n",
        "tensor_tkd = TensorTKD(fmat=[A, B, C], core_values=values)\n",
        "\n",
        "# Result preview\n",
        "print(tensor_tkd)"
      ]
    },
    {
      "cell_type": "markdown",
      "metadata": {
        "id": "x3RghDxPV_Pj"
      },
      "source": [
        "### Solution: Part 4"
      ]
    },
    {
      "cell_type": "code",
      "execution_count": 3,
      "metadata": {
        "id": "sR6X9znDV_Pk",
        "outputId": "971f3831-0fb5-4ebc-ec67-94411eae877e",
        "colab": {
          "base_uri": "https://localhost:8080/"
        }
      },
      "outputs": [
        {
          "output_type": "stream",
          "name": "stdout",
          "text": [
            "The main difference between the two representation is the  core tensor . In Kruskal representation, the core tensor only have the diagonal elements, while in Tucker, the core tensor have no restriction. So the Kruskal representation can be use to compress the information through set the small value to zero What's more, the Tucker representation representation is more flexible, allowing for a richer and more general representation of the data.\n"
          ]
        }
      ],
      "source": [
        "answer_2_4 = \"The main difference between the two representation is the  core tensor . In Kruskal representation, the core tensor only have the diagonal elements, while in Tucker, the core tensor have no restriction. So the Kruskal representation can be use to compress the information through set the small value to zero What's more, the Tucker representation representation is more flexible, allowing for a richer and more general representation of the data.\"  # use this variable for your answer\n",
        "\n",
        "print(answer_2_4)"
      ]
    }
  ],
  "metadata": {
    "kernelspec": {
      "display_name": "dpm-coursework",
      "language": "python",
      "name": "dpm-coursework"
    },
    "language_info": {
      "codemirror_mode": {
        "name": "ipython",
        "version": 3
      },
      "file_extension": ".py",
      "mimetype": "text/x-python",
      "name": "python",
      "nbconvert_exporter": "python",
      "pygments_lexer": "ipython3",
      "version": "3.6.5"
    },
    "toc-autonumbering": false,
    "toc-showcode": false,
    "colab": {
      "provenance": [],
      "include_colab_link": true
    }
  },
  "nbformat": 4,
  "nbformat_minor": 0
}