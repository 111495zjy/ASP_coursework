{
  "cells": [
    {
      "cell_type": "code",
      "source": [
        "!git clone https://github.com/IlyaKisil/dpm-coursework.git"
      ],
      "metadata": {
        "colab": {
          "base_uri": "https://localhost:8080/"
        },
        "id": "p3nRCVtyW0xU",
        "outputId": "42fc850b-1166-47cc-e15e-f56b46941488"
      },
      "execution_count": 3,
      "outputs": [
        {
          "output_type": "stream",
          "name": "stdout",
          "text": [
            "Cloning into 'dpm-coursework'...\n",
            "remote: Enumerating objects: 143, done.\u001b[K\n",
            "remote: Counting objects: 100% (10/10), done.\u001b[K\n",
            "remote: Compressing objects: 100% (10/10), done.\u001b[K\n",
            "remote: Total 143 (delta 3), reused 2 (delta 0), pack-reused 133 (from 1)\u001b[K\n",
            "Receiving objects: 100% (143/143), 3.38 MiB | 7.05 MiB/s, done.\n",
            "Resolving deltas: 100% (48/48), done.\n"
          ]
        }
      ]
    },
    {
      "cell_type": "code",
      "source": [
        "%cd /content/dpm-coursework\n",
        "\n",
        "!./boostrap-venv.sh"
      ],
      "metadata": {
        "colab": {
          "base_uri": "https://localhost:8080/"
        },
        "id": "X4xECI0rW64G",
        "outputId": "8b4116f3-212f-464d-aca1-b0648f4e73b2"
      },
      "execution_count": 5,
      "outputs": [
        {
          "output_type": "stream",
          "name": "stdout",
          "text": [
            "/content/dpm-coursework\n",
            "./boostrap-venv.sh: line 7: conda: command not found\n",
            "./boostrap-venv.sh: line 11: conda: command not found\n",
            "Processing ./binder/coursework\n",
            "  Preparing metadata (setup.py) ... \u001b[?25l\u001b[?25hdone\n",
            "Requirement already satisfied: ipykernel in /usr/local/lib/python3.11/dist-packages (from coursework==0.1.1) (6.17.1)\n",
            "Requirement already satisfied: matplotlib in /usr/local/lib/python3.11/dist-packages (from coursework==0.1.1) (3.10.0)\n",
            "Requirement already satisfied: seaborn in /usr/local/lib/python3.11/dist-packages (from coursework==0.1.1) (0.13.2)\n",
            "Requirement already satisfied: numpy in /usr/local/lib/python3.11/dist-packages (from coursework==0.1.1) (2.0.2)\n",
            "Requirement already satisfied: pandas in /usr/local/lib/python3.11/dist-packages (from coursework==0.1.1) (2.2.2)\n",
            "Requirement already satisfied: scipy in /usr/local/lib/python3.11/dist-packages (from coursework==0.1.1) (1.14.1)\n",
            "Collecting hottbox (from coursework==0.1.1)\n",
            "  Downloading hottbox-0.3.2-py3-none-any.whl.metadata (5.5 kB)\n",
            "Requirement already satisfied: scikit-learn in /usr/local/lib/python3.11/dist-packages (from hottbox->coursework==0.1.1) (1.6.1)\n",
            "Requirement already satisfied: debugpy>=1.0 in /usr/local/lib/python3.11/dist-packages (from ipykernel->coursework==0.1.1) (1.8.0)\n",
            "Requirement already satisfied: ipython>=7.23.1 in /usr/local/lib/python3.11/dist-packages (from ipykernel->coursework==0.1.1) (7.34.0)\n",
            "Requirement already satisfied: jupyter-client>=6.1.12 in /usr/local/lib/python3.11/dist-packages (from ipykernel->coursework==0.1.1) (6.1.12)\n",
            "Requirement already satisfied: matplotlib-inline>=0.1 in /usr/local/lib/python3.11/dist-packages (from ipykernel->coursework==0.1.1) (0.1.7)\n",
            "Requirement already satisfied: nest-asyncio in /usr/local/lib/python3.11/dist-packages (from ipykernel->coursework==0.1.1) (1.6.0)\n",
            "Requirement already satisfied: packaging in /usr/local/lib/python3.11/dist-packages (from ipykernel->coursework==0.1.1) (24.2)\n",
            "Requirement already satisfied: psutil in /usr/local/lib/python3.11/dist-packages (from ipykernel->coursework==0.1.1) (5.9.5)\n",
            "Requirement already satisfied: pyzmq>=17 in /usr/local/lib/python3.11/dist-packages (from ipykernel->coursework==0.1.1) (24.0.1)\n",
            "Requirement already satisfied: tornado>=6.1 in /usr/local/lib/python3.11/dist-packages (from ipykernel->coursework==0.1.1) (6.4.2)\n",
            "Requirement already satisfied: traitlets>=5.1.0 in /usr/local/lib/python3.11/dist-packages (from ipykernel->coursework==0.1.1) (5.7.1)\n",
            "Requirement already satisfied: contourpy>=1.0.1 in /usr/local/lib/python3.11/dist-packages (from matplotlib->coursework==0.1.1) (1.3.1)\n",
            "Requirement already satisfied: cycler>=0.10 in /usr/local/lib/python3.11/dist-packages (from matplotlib->coursework==0.1.1) (0.12.1)\n",
            "Requirement already satisfied: fonttools>=4.22.0 in /usr/local/lib/python3.11/dist-packages (from matplotlib->coursework==0.1.1) (4.56.0)\n",
            "Requirement already satisfied: kiwisolver>=1.3.1 in /usr/local/lib/python3.11/dist-packages (from matplotlib->coursework==0.1.1) (1.4.8)\n",
            "Requirement already satisfied: pillow>=8 in /usr/local/lib/python3.11/dist-packages (from matplotlib->coursework==0.1.1) (11.1.0)\n",
            "Requirement already satisfied: pyparsing>=2.3.1 in /usr/local/lib/python3.11/dist-packages (from matplotlib->coursework==0.1.1) (3.2.1)\n",
            "Requirement already satisfied: python-dateutil>=2.7 in /usr/local/lib/python3.11/dist-packages (from matplotlib->coursework==0.1.1) (2.8.2)\n",
            "Requirement already satisfied: pytz>=2020.1 in /usr/local/lib/python3.11/dist-packages (from pandas->coursework==0.1.1) (2025.1)\n",
            "Requirement already satisfied: tzdata>=2022.7 in /usr/local/lib/python3.11/dist-packages (from pandas->coursework==0.1.1) (2025.1)\n",
            "Requirement already satisfied: setuptools>=18.5 in /usr/local/lib/python3.11/dist-packages (from ipython>=7.23.1->ipykernel->coursework==0.1.1) (75.1.0)\n",
            "Collecting jedi>=0.16 (from ipython>=7.23.1->ipykernel->coursework==0.1.1)\n",
            "  Downloading jedi-0.19.2-py2.py3-none-any.whl.metadata (22 kB)\n",
            "Requirement already satisfied: decorator in /usr/local/lib/python3.11/dist-packages (from ipython>=7.23.1->ipykernel->coursework==0.1.1) (4.4.2)\n",
            "Requirement already satisfied: pickleshare in /usr/local/lib/python3.11/dist-packages (from ipython>=7.23.1->ipykernel->coursework==0.1.1) (0.7.5)\n",
            "Requirement already satisfied: prompt-toolkit!=3.0.0,!=3.0.1,<3.1.0,>=2.0.0 in /usr/local/lib/python3.11/dist-packages (from ipython>=7.23.1->ipykernel->coursework==0.1.1) (3.0.50)\n",
            "Requirement already satisfied: pygments in /usr/local/lib/python3.11/dist-packages (from ipython>=7.23.1->ipykernel->coursework==0.1.1) (2.18.0)\n",
            "Requirement already satisfied: backcall in /usr/local/lib/python3.11/dist-packages (from ipython>=7.23.1->ipykernel->coursework==0.1.1) (0.2.0)\n",
            "Requirement already satisfied: pexpect>4.3 in /usr/local/lib/python3.11/dist-packages (from ipython>=7.23.1->ipykernel->coursework==0.1.1) (4.9.0)\n",
            "Requirement already satisfied: jupyter-core>=4.6.0 in /usr/local/lib/python3.11/dist-packages (from jupyter-client>=6.1.12->ipykernel->coursework==0.1.1) (5.7.2)\n",
            "Requirement already satisfied: six>=1.5 in /usr/local/lib/python3.11/dist-packages (from python-dateutil>=2.7->matplotlib->coursework==0.1.1) (1.17.0)\n",
            "Requirement already satisfied: joblib>=1.2.0 in /usr/local/lib/python3.11/dist-packages (from scikit-learn->hottbox->coursework==0.1.1) (1.4.2)\n",
            "Requirement already satisfied: threadpoolctl>=3.1.0 in /usr/local/lib/python3.11/dist-packages (from scikit-learn->hottbox->coursework==0.1.1) (3.6.0)\n",
            "Requirement already satisfied: parso<0.9.0,>=0.8.4 in /usr/local/lib/python3.11/dist-packages (from jedi>=0.16->ipython>=7.23.1->ipykernel->coursework==0.1.1) (0.8.4)\n",
            "Requirement already satisfied: platformdirs>=2.5 in /usr/local/lib/python3.11/dist-packages (from jupyter-core>=4.6.0->jupyter-client>=6.1.12->ipykernel->coursework==0.1.1) (4.3.6)\n",
            "Requirement already satisfied: ptyprocess>=0.5 in /usr/local/lib/python3.11/dist-packages (from pexpect>4.3->ipython>=7.23.1->ipykernel->coursework==0.1.1) (0.7.0)\n",
            "Requirement already satisfied: wcwidth in /usr/local/lib/python3.11/dist-packages (from prompt-toolkit!=3.0.0,!=3.0.1,<3.1.0,>=2.0.0->ipython>=7.23.1->ipykernel->coursework==0.1.1) (0.2.13)\n",
            "Downloading hottbox-0.3.2-py3-none-any.whl (113 kB)\n",
            "\u001b[2K   \u001b[90m━━━━━━━━━━━━━━━━━━━━━━━━━━━━━━━━━━━━━━━━\u001b[0m \u001b[32m113.6/113.6 kB\u001b[0m \u001b[31m5.5 MB/s\u001b[0m eta \u001b[36m0:00:00\u001b[0m\n",
            "\u001b[?25hDownloading jedi-0.19.2-py2.py3-none-any.whl (1.6 MB)\n",
            "\u001b[2K   \u001b[90m━━━━━━━━━━━━━━━━━━━━━━━━━━━━━━━━━━━━━━━━\u001b[0m \u001b[32m1.6/1.6 MB\u001b[0m \u001b[31m42.3 MB/s\u001b[0m eta \u001b[36m0:00:00\u001b[0m\n",
            "\u001b[?25hBuilding wheels for collected packages: coursework\n",
            "  Building wheel for coursework (setup.py) ... \u001b[?25l\u001b[?25hdone\n",
            "  Created wheel for coursework: filename=coursework-0.1.1-py3-none-any.whl size=166608 sha256=c096bc1763d3468a05640d3f65d183eff1bad00bdf9dd060be30af57efb8bade\n",
            "  Stored in directory: /tmp/pip-ephem-wheel-cache-3ymr0v3u/wheels/27/4a/5d/4506a6e044a1c3d7b88bb81db683a16b6a1fb55a0614720dd3\n",
            "Successfully built coursework\n",
            "Installing collected packages: jedi, hottbox, coursework\n",
            "Successfully installed coursework-0.1.1 hottbox-0.3.2 jedi-0.19.2\n",
            "0.00s - Debugger warning: It seems that frozen modules are being used, which may\n",
            "0.00s - make the debugger miss breakpoints. Please pass -Xfrozen_modules=off\n",
            "0.00s - to python to disable frozen modules.\n",
            "0.00s - Note: Debugging will proceed. Set PYDEVD_DISABLE_FILE_VALIDATION=1 to disable this validation.\n",
            "Installed kernelspec dpm-coursework in /root/.local/share/jupyter/kernels/dpm-coursework\n",
            "./boostrap-venv.sh: line 13: conda: command not found\n"
          ]
        }
      ]
    },
    {
      "cell_type": "code",
      "execution_count": 1,
      "metadata": {
        "id": "9madltBrWmUw"
      },
      "outputs": [],
      "source": [
        "%load_ext autoreload\n",
        "%autoreload 2\n",
        "%matplotlib inline"
      ]
    },
    {
      "cell_type": "code",
      "execution_count": 25,
      "metadata": {
        "id": "z7daDqw_WmUx"
      },
      "outputs": [],
      "source": [
        "import numpy as np\n",
        "import matplotlib.pyplot as plt\n",
        "from hottbox.core import Tensor"
      ]
    },
    {
      "cell_type": "markdown",
      "metadata": {
        "toc-hr-collapsed": false,
        "id": "TSwTIW3OWmUx"
      },
      "source": [
        "[Return to Table of Contents](./0_Table_of_contents.ipynb)"
      ]
    },
    {
      "cell_type": "markdown",
      "metadata": {
        "toc-hr-collapsed": false,
        "id": "nBvfsA_WWmUy"
      },
      "source": [
        "# Tensors and basic operations"
      ]
    },
    {
      "cell_type": "markdown",
      "metadata": {
        "toc-hr-collapsed": true,
        "id": "9EQrdZvqWmUy"
      },
      "source": [
        "<img src=\"https://github.com/IlyaKisil/dpm-coursework/blob/master/notebooks/imgs/tensors_dogs.jpg?raw=1\" alt=\"Drawing\" style=\"width: 500px;\"/>\n",
        "\n",
        "A tensor is a multi-dimenaional array of data where each dimension is conventionally referred to as the **mode**. Tensor order is defined by the number of its modes which is equivivalent to the number of indices required to identify a particular entry of a multi-dimensional array. For ease of visualisation and compact notation, we consider a third order tensor $\\mathbf{\\underline{X}} \\in \\mathbb{R}^{I \\times J \\times K}$. Thus, an element of such a tensor, $\\mathbf{\\underline{X}} \\in \\mathbb{R}^{I \\times J \\times K}$, can be written in a general form as:\n",
        "\n",
        "$$ x_{ijk} = \\mathbf{\\underline{X}}[i, j, k]$$\n",
        "\n",
        "> **Note:** In order to be consistent with Python indexing, count of modes and elements within starts from zeros.\n",
        "\n",
        "Creation of a tensor starts with a formation of a multidimensional array of data."
      ]
    },
    {
      "cell_type": "code",
      "execution_count": 26,
      "metadata": {
        "colab": {
          "base_uri": "https://localhost:8080/"
        },
        "id": "-KR62gayWmUy",
        "outputId": "bae71177-888a-4b71-ad3a-4becc82860d8"
      },
      "outputs": [
        {
          "output_type": "stream",
          "name": "stdout",
          "text": [
            "This tensor is of order 3 and consists of 24 elements.\n",
            "Sizes and names of its modes are (2, 3, 4) and ['mode-0', 'mode-1', 'mode-2'] respectively.\n"
          ]
        },
        {
          "output_type": "execute_result",
          "data": {
            "text/plain": [
              "array([[[ 0,  1,  2,  3],\n",
              "        [ 4,  5,  6,  7],\n",
              "        [ 8,  9, 10, 11]],\n",
              "\n",
              "       [[12, 13, 14, 15],\n",
              "        [16, 17, 18, 19],\n",
              "        [20, 21, 22, 23]]])"
            ]
          },
          "metadata": {},
          "execution_count": 26
        }
      ],
      "source": [
        "# Create 3-d array of data\n",
        "array_3d = np.arange(24).reshape((2, 3, 4))\n",
        "\n",
        "# Create tensor\n",
        "tensor = Tensor(array_3d)\n",
        "\n",
        "# Result preview\n",
        "print(tensor)\n",
        "tensor.data"
      ]
    },
    {
      "cell_type": "markdown",
      "metadata": {
        "toc-hr-collapsed": true,
        "id": "HlbgiWl4WmUz"
      },
      "source": [
        "## **Assigment 1**\n",
        "\n",
        "1. Create a tensor of order 5 (of any shape) and with all its values equal to 5. Then, calculate its Frobenious norm.\n",
        "2. Construct several tensors of orders varying from 3 to 20, with the size of each dimension equal to 2. Plot the relation between an order of a tensor and the number of its elements.\n",
        "3. Construct several tensors of order 3 with the size of each dimension varying from 3 to 15. Plot the relation between the size of dimensions of a tensor and the number of its elements.\n",
        "4. Analyse and compare the so obtained graphs."
      ]
    },
    {
      "cell_type": "markdown",
      "metadata": {
        "id": "9yl43ObrWmUz"
      },
      "source": [
        "### Solution: Part 1"
      ]
    },
    {
      "cell_type": "markdown",
      "source": [],
      "metadata": {
        "id": "0dtB39d5bPRw"
      }
    },
    {
      "cell_type": "code",
      "execution_count": 10,
      "metadata": {
        "colab": {
          "base_uri": "https://localhost:8080/"
        },
        "id": "c3N0BciHWmUz",
        "outputId": "14e6956d-bdb9-45c1-aaba-2b55a151896f"
      },
      "outputs": [
        {
          "output_type": "stream",
          "name": "stdout",
          "text": [
            "[[[[[5 5]\n",
            "    [5 5]]\n",
            "\n",
            "   [[5 5]\n",
            "    [5 5]]]\n",
            "\n",
            "\n",
            "  [[[5 5]\n",
            "    [5 5]]\n",
            "\n",
            "   [[5 5]\n",
            "    [5 5]]]\n",
            "\n",
            "\n",
            "  [[[5 5]\n",
            "    [5 5]]\n",
            "\n",
            "   [[5 5]\n",
            "    [5 5]]]]\n",
            "\n",
            "\n",
            "\n",
            " [[[[5 5]\n",
            "    [5 5]]\n",
            "\n",
            "   [[5 5]\n",
            "    [5 5]]]\n",
            "\n",
            "\n",
            "  [[[5 5]\n",
            "    [5 5]]\n",
            "\n",
            "   [[5 5]\n",
            "    [5 5]]]\n",
            "\n",
            "\n",
            "  [[[5 5]\n",
            "    [5 5]]\n",
            "\n",
            "   [[5 5]\n",
            "    [5 5]]]]]\n"
          ]
        }
      ],
      "source": [
        "# Create a tensor\n",
        "shape = (2, 3, 2, 2, 2)\n",
        "\n",
        "# Create the tensor with all values equal to 5\n",
        "tensor_5 = np.full(shape, 5)\n",
        "print(tensor_5)"
      ]
    },
    {
      "cell_type": "code",
      "execution_count": 13,
      "metadata": {
        "colab": {
          "base_uri": "https://localhost:8080/"
        },
        "id": "OhsThlT2WmUz",
        "outputId": "14440b0c-6826-4e66-f0cb-2740434b1ce8"
      },
      "outputs": [
        {
          "output_type": "stream",
          "name": "stdout",
          "text": [
            "34.64101615137755\n"
          ]
        }
      ],
      "source": [
        "# Calculate Frobenious norm\n",
        "frobenius_norm = np.linalg.norm(tensor_5)\n",
        "print(frobenius_norm)"
      ]
    },
    {
      "cell_type": "markdown",
      "metadata": {
        "id": "bLhFBKf3WmUz"
      },
      "source": [
        "### Solution: Part 2"
      ]
    },
    {
      "cell_type": "code",
      "execution_count": 28,
      "metadata": {
        "id": "7X7uscgVWmUz"
      },
      "outputs": [],
      "source": [
        "\n",
        "# 创建从 3 到 20 的 order 列表\n",
        "orders = list(range(3, 21))\n",
        "tensors_all = []\n",
        "num_elements = []  # 用于存储每个张量的元素数量\n",
        "\n",
        "# 对于每个 order，生成一个指定维度大小为 2 的张量\n",
        "for order in orders:\n",
        "    tensor = np.random.random([2] * order)  # 生成指定 order 的随机张量\n",
        "    tensors_all.append(tensor)  # 将张量保存到列表中\n",
        "    num_elements.append(tensor.size)  # 计算每个张量的元素数量\n",
        "\n"
      ]
    },
    {
      "cell_type": "code",
      "execution_count": 29,
      "metadata": {
        "colab": {
          "base_uri": "https://localhost:8080/",
          "height": 487
        },
        "id": "HjGHMgxSWmUz",
        "outputId": "8d93e2a0-f499-4713-b454-7d39b4f94a9b"
      },
      "outputs": [
        {
          "output_type": "display_data",
          "data": {
            "text/plain": [
              "<Figure size 640x480 with 1 Axes>"
            ],
            "image/png": "[encoded data removed]"
          },
          "metadata": {}
        }
      ],
      "source": [
        "# Plot results\n",
        "# 绘制 order 和元素数量之间的关系\n",
        "plt.plot(orders, num_elements, marker='o')\n",
        "plt.xlabel('Tensor Order ')\n",
        "plt.ylabel('Number of Elements ')\n",
        "plt.title('Relation Between Tensor Order and Number of Elements')\n",
        "plt.grid(True)\n",
        "plt.show()"
      ]
    },
    {
      "cell_type": "markdown",
      "metadata": {
        "id": "gA6ADGhiWmUz"
      },
      "source": [
        "### Solution: Part 3"
      ]
    },
    {
      "cell_type": "code",
      "execution_count": 30,
      "metadata": {
        "id": "uy-RGNuqWmUz"
      },
      "outputs": [],
      "source": [
        "# Create tensors and collect information\n",
        "# 创建从 3 到 15 的维度大小列表\n",
        "dimension_sizes = list(range(3, 16))  # 维度大小从 3 到 15\n",
        "\n",
        "# 存储元素数量的列表\n",
        "num_elements = []\n",
        "\n",
        "# 对于每个维度大小，生成一个 order 3 的张量\n",
        "for size in dimension_sizes:\n",
        "    tensor = np.random.random([size] * 3)  # 生成一个每个维度大小为 size 的张量\n",
        "    num_elements.append(tensor.size) # 计算元素数量并添加到列表中"
      ]
    },
    {
      "cell_type": "code",
      "execution_count": 31,
      "metadata": {
        "colab": {
          "base_uri": "https://localhost:8080/",
          "height": 472
        },
        "id": "38S0NlSBWmUz",
        "outputId": "301493fb-daf5-4f01-faeb-4c91cee45823"
      },
      "outputs": [
        {
          "output_type": "display_data",
          "data": {
            "text/plain": [
              "<Figure size 640x480 with 1 Axes>"
            ],
            "image/png": "[encoded data removed]"
          },
          "metadata": {}
        }
      ],
      "source": [
        "# Plot results\n",
        "# 绘制维度大小和元素数量之间的关系\n",
        "plt.plot(dimension_sizes, num_elements, marker='o')\n",
        "plt.xlabel('Size of Each Dimension')\n",
        "plt.ylabel('Number of Elements')\n",
        "plt.title('Relation Between Size of Each Dimension and Number of Elements in a Tensor (Order 3)')\n",
        "plt.grid(True)\n",
        "plt.show()"
      ]
    },
    {
      "cell_type": "markdown",
      "metadata": {
        "id": "lN15G3PHWmU0"
      },
      "source": [
        "### Solution: Part 4"
      ]
    },
    {
      "cell_type": "markdown",
      "metadata": {
        "id": "SwgF9noUWmU0"
      },
      "source": [
        "**Include comparison and analysis here**\n",
        "\n"
      ]
    },
    {
      "cell_type": "markdown",
      "metadata": {
        "toc-hr-collapsed": false,
        "id": "kwqCMEiRWmU0"
      },
      "source": [
        "# Most common tensor substructures\n",
        "<img src=\"https://github.com/IlyaKisil/dpm-coursework/blob/master/notebooks/imgs/tensor_substructures.png?raw=1\" alt=\"Drawing\" style=\"width: 500px;\"/>\n",
        "\n",
        "1. A **fiber** is a vector obtained by fixing all but one of the indices, e.g.  $\\mathbf{\\underline{X}}[i,:,k]$ is the mode-2 fiber $\\mathbf{\\underline{X}}$ (usually refered to as row fiber).\n",
        "\n",
        "1. Fixing all but two of the indices yields a matrix called a **slice** of a tensor, e.g. $\\mathbf{\\underline{X}}[:,:,k]$ is the mode-[1,2] slice (usually refered to as the frontal slice).\n",
        "\n",
        "**Note:** The same principles and definitions can be applied to a tensor of an arbitrarily large order. In addition, you can obtain a **subtensor** by fixing at least three indices and letting the remaining ones vary."
      ]
    },
    {
      "cell_type": "code",
      "execution_count": 27,
      "metadata": {
        "colab": {
          "base_uri": "https://localhost:8080/"
        },
        "id": "-c4W6mhOWmU0",
        "outputId": "1b5879e0-aede-4cd2-baf8-007e7403b596"
      },
      "outputs": [
        {
          "output_type": "execute_result",
          "data": {
            "text/plain": [
              "array([4, 5, 6, 7])"
            ]
          },
          "metadata": {},
          "execution_count": 27
        }
      ],
      "source": [
        "# Mode-2 fiber\n",
        "tensor.data[0,1,:]"
      ]
    },
    {
      "cell_type": "code",
      "execution_count": null,
      "metadata": {
        "id": "v2m2C6-aWmU0",
        "outputId": "e9ba1ddd-477a-4df0-ee33-6e8e019eb4f9"
      },
      "outputs": [
        {
          "data": {
            "text/plain": [
              "array([[ 0,  1,  2,  3],\n",
              "       [ 4,  5,  6,  7],\n",
              "       [ 8,  9, 10, 11]])"
            ]
          },
          "execution_count": 11,
          "metadata": {},
          "output_type": "execute_result"
        }
      ],
      "source": [
        "# Frontal slice\n",
        "tensor.data[0,:,:]"
      ]
    },
    {
      "cell_type": "markdown",
      "metadata": {
        "toc-hr-collapsed": true,
        "id": "xGvoelMpWmU1"
      },
      "source": [
        "## **Assigment 2**\n",
        "\n",
        "1. Create a tensor of order 4 which consists of 81 elements and display all its horizontal slices and any five row fibers.\n",
        "2. Create a tensor of order 3 and shape `(4,2,5)`, where the values of each consequent frontal slice are doubled."
      ]
    },
    {
      "cell_type": "markdown",
      "metadata": {
        "id": "9XMM-EG7WmU1"
      },
      "source": [
        "### Solution: Part 1"
      ]
    },
    {
      "cell_type": "code",
      "execution_count": 32,
      "metadata": {
        "id": "IW9zSotJWmU1"
      },
      "outputs": [],
      "source": [
        "# Create a tensor of order 4\n",
        "tensor = np.random.random((3, 3, 3, 3))"
      ]
    },
    {
      "cell_type": "code",
      "execution_count": 36,
      "metadata": {
        "colab": {
          "base_uri": "https://localhost:8080/"
        },
        "id": "kMSbObjhWmU1",
        "outputId": "01cb1bec-b7fc-4683-95af-2e2e92ecf235"
      },
      "outputs": [
        {
          "output_type": "stream",
          "name": "stdout",
          "text": [
            "\n",
            "Slice 1:\n",
            "[[[0.5896098  0.21569801 0.21654771]\n",
            "  [0.85451995 0.01562097 0.10514155]\n",
            "  [0.57103982 0.86016056 0.02524855]]\n",
            "\n",
            " [[0.03754798 0.63460297 0.99593816]\n",
            "  [0.75720017 0.58273379 0.30687918]\n",
            "  [0.51825229 0.54944251 0.7784104 ]]\n",
            "\n",
            " [[0.52357875 0.05850959 0.89104364]\n",
            "  [0.88553868 0.51505555 0.30958353]\n",
            "  [0.49221182 0.06874321 0.64219568]]]\n",
            "\n",
            "Slice 2:\n",
            "[[[0.59982231 0.94839542 0.42010475]\n",
            "  [0.6529782  0.33570354 0.9665895 ]\n",
            "  [0.22229621 0.93268054 0.34497668]]\n",
            "\n",
            " [[0.59075054 0.48053455 0.68471994]\n",
            "  [0.95511414 0.67331778 0.84936953]\n",
            "  [0.27672439 0.70407225 0.94680672]]\n",
            "\n",
            " [[0.6856018  0.18531505 0.31087387]\n",
            "  [0.72188608 0.23631564 0.04727591]\n",
            "  [0.63505053 0.75077997 0.33374034]]]\n",
            "\n",
            "Slice 3:\n",
            "[[[0.99997225 0.68469585 0.36211299]\n",
            "  [0.49099416 0.38120235 0.47197104]\n",
            "  [0.92911179 0.1222271  0.25535046]]\n",
            "\n",
            " [[0.31320455 0.72630287 0.37897262]\n",
            "  [0.62570187 0.70466919 0.69204572]\n",
            "  [0.908935   0.56364149 0.38486497]]\n",
            "\n",
            " [[0.13720088 0.517314   0.88352986]\n",
            "  [0.77352124 0.12071584 0.21110865]\n",
            "  [0.84820001 0.5468339  0.68761057]]]\n"
          ]
        }
      ],
      "source": [
        "# Display slices\n",
        "for i in range(tensor.shape[0]):\n",
        "    print(f\"\\nSlice {i+1}:\\n{tensor[i,:,:,:]}\")"
      ]
    },
    {
      "cell_type": "code",
      "execution_count": 38,
      "metadata": {
        "colab": {
          "base_uri": "https://localhost:8080/"
        },
        "id": "D7QP1C4kWmU1",
        "outputId": "2a4c9bb8-e36c-43bc-ac8f-76543526691f"
      },
      "outputs": [
        {
          "output_type": "stream",
          "name": "stdout",
          "text": [
            "\n",
            "Row fiber 1:\n",
            "[[[0.5896098  0.21569801 0.21654771]\n",
            "  [0.85451995 0.01562097 0.10514155]\n",
            "  [0.57103982 0.86016056 0.02524855]]\n",
            "\n",
            " [[0.03754798 0.63460297 0.99593816]\n",
            "  [0.75720017 0.58273379 0.30687918]\n",
            "  [0.51825229 0.54944251 0.7784104 ]]\n",
            "\n",
            " [[0.52357875 0.05850959 0.89104364]\n",
            "  [0.88553868 0.51505555 0.30958353]\n",
            "  [0.49221182 0.06874321 0.64219568]]]\n",
            "\n",
            "Row fiber 2:\n",
            "[[[0.59982231 0.94839542 0.42010475]\n",
            "  [0.6529782  0.33570354 0.9665895 ]\n",
            "  [0.22229621 0.93268054 0.34497668]]\n",
            "\n",
            " [[0.59075054 0.48053455 0.68471994]\n",
            "  [0.95511414 0.67331778 0.84936953]\n",
            "  [0.27672439 0.70407225 0.94680672]]\n",
            "\n",
            " [[0.6856018  0.18531505 0.31087387]\n",
            "  [0.72188608 0.23631564 0.04727591]\n",
            "  [0.63505053 0.75077997 0.33374034]]]\n",
            "\n",
            "Row fiber 3:\n",
            "[[[0.99997225 0.68469585 0.36211299]\n",
            "  [0.49099416 0.38120235 0.47197104]\n",
            "  [0.92911179 0.1222271  0.25535046]]\n",
            "\n",
            " [[0.31320455 0.72630287 0.37897262]\n",
            "  [0.62570187 0.70466919 0.69204572]\n",
            "  [0.908935   0.56364149 0.38486497]]\n",
            "\n",
            " [[0.13720088 0.517314   0.88352986]\n",
            "  [0.77352124 0.12071584 0.21110865]\n",
            "  [0.84820001 0.5468339  0.68761057]]]\n",
            "\n",
            "Row fiber 4:\n",
            "[[[0.5896098  0.21569801 0.21654771]\n",
            "  [0.85451995 0.01562097 0.10514155]\n",
            "  [0.57103982 0.86016056 0.02524855]]\n",
            "\n",
            " [[0.03754798 0.63460297 0.99593816]\n",
            "  [0.75720017 0.58273379 0.30687918]\n",
            "  [0.51825229 0.54944251 0.7784104 ]]\n",
            "\n",
            " [[0.52357875 0.05850959 0.89104364]\n",
            "  [0.88553868 0.51505555 0.30958353]\n",
            "  [0.49221182 0.06874321 0.64219568]]]\n",
            "\n",
            "Row fiber 5:\n",
            "[[[0.59982231 0.94839542 0.42010475]\n",
            "  [0.6529782  0.33570354 0.9665895 ]\n",
            "  [0.22229621 0.93268054 0.34497668]]\n",
            "\n",
            " [[0.59075054 0.48053455 0.68471994]\n",
            "  [0.95511414 0.67331778 0.84936953]\n",
            "  [0.27672439 0.70407225 0.94680672]]\n",
            "\n",
            " [[0.6856018  0.18531505 0.31087387]\n",
            "  [0.72188608 0.23631564 0.04727591]\n",
            "  [0.63505053 0.75077997 0.33374034]]]\n"
          ]
        }
      ],
      "source": [
        "# Display fibers\n",
        "for i in range(5):\n",
        "    row_fiber = tensor[i % tensor.shape[0], :, :,:]\n",
        "    print(f\"\\nRow fiber {i+1}:\\n{row_fiber}\")"
      ]
    },
    {
      "cell_type": "markdown",
      "metadata": {
        "id": "VQxScbLBWmU1"
      },
      "source": [
        "### Solution: Part 2"
      ]
    },
    {
      "cell_type": "code",
      "execution_count": 40,
      "metadata": {
        "colab": {
          "base_uri": "https://localhost:8080/"
        },
        "id": "VXjaAc_3WmU1",
        "outputId": "c2e803e1-8681-4e28-d2e2-cc8acd6f5449"
      },
      "outputs": [
        {
          "output_type": "stream",
          "name": "stdout",
          "text": [
            "Tensor with doubled frontal slices:\n",
            "\n",
            "Frontal slice 1:\n",
            "[[1. 1. 1. 1. 1.]\n",
            " [1. 1. 1. 1. 1.]]\n",
            "\n",
            "Frontal slice 2:\n",
            "[[2. 2. 2. 2. 2.]\n",
            " [2. 2. 2. 2. 2.]]\n",
            "\n",
            "Frontal slice 3:\n",
            "[[4. 4. 4. 4. 4.]\n",
            " [4. 4. 4. 4. 4.]]\n",
            "\n",
            "Frontal slice 4:\n",
            "[[8. 8. 8. 8. 8.]\n",
            " [8. 8. 8. 8. 8.]]\n"
          ]
        }
      ],
      "source": [
        "# Create a tensor of order 3\n",
        "# Define the shape of the tensor\n",
        "shape = (4, 2, 5)\n",
        "\n",
        "# Initialize the tensor\n",
        "tensor = np.zeros(shape)\n",
        "\n",
        "# Start with an initial frontal slice (for example, 1s in the first slice)\n",
        "tensor[0] = np.ones((2, 5))\n",
        "\n",
        "# Populate each frontal slice by doubling the previous one\n",
        "for i in range(1, shape[0]):\n",
        "    tensor[i] = tensor[i-1] * 2  # Double the previous slice\n",
        "\n",
        "# Display the tensor and its frontal slices\n",
        "print(\"Tensor with doubled frontal slices:\")\n",
        "for i in range(tensor.shape[0]):\n",
        "    print(f\"\\nFrontal slice {i+1}:\\n{tensor[i]}\")"
      ]
    },
    {
      "cell_type": "markdown",
      "metadata": {
        "toc-hr-collapsed": false,
        "id": "n4sVd3zdWmU1"
      },
      "source": [
        "# Unfolding\n",
        "\n",
        "Conventionally, unfolding is considered to be a process of element mapping from a tensor to a matrix. In other words, it arranges the mode-$n$ fibers of a tensor to be the matrix columns. Thus, the mode-$n$ unfolding is denoted as:\n",
        "\n",
        "$$\\mathbf{\\underline{A}} \\xrightarrow{n} \\mathbf{A}_{(n)}$$\n",
        "\n",
        "Thus, this operations requires to specify a mode along which a tensor will be unfolded. For a third order tensor, a visual representation of such operation is as following\n",
        "\n",
        "<img src=\"https://github.com/IlyaKisil/dpm-coursework/blob/master/notebooks/imgs/unfolding.png?raw=1\" alt=\"Drawing\" style=\"width: 600px;\"/>\n",
        "\n",
        "In `hottbox` this functionality is available through the corresponding methods of the `Tensor` object, for instance:"
      ]
    },
    {
      "cell_type": "code",
      "execution_count": 41,
      "metadata": {
        "colab": {
          "base_uri": "https://localhost:8080/"
        },
        "id": "FDkH31VWWmU1",
        "outputId": "615cd910-e6f9-4d16-82fb-10fdf2fdd1dd"
      },
      "outputs": [
        {
          "output_type": "stream",
          "name": "stdout",
          "text": [
            "This tensor is of order 2 and consists of 24 elements.\n",
            "Sizes and names of its modes are (2, 12) and ['mode-0', 'mode-1_mode-2'] respectively.\n"
          ]
        },
        {
          "output_type": "execute_result",
          "data": {
            "text/plain": [
              "array([[ 0,  1,  2,  3,  4,  5,  6,  7,  8,  9, 10, 11],\n",
              "       [12, 13, 14, 15, 16, 17, 18, 19, 20, 21, 22, 23]])"
            ]
          },
          "metadata": {},
          "execution_count": 41
        }
      ],
      "source": [
        "# Create 3-d array of data\n",
        "array_3d = np.arange(24).reshape((2, 3, 4))\n",
        "\n",
        "# Create tensor\n",
        "tensor = Tensor(array_3d)\n",
        "\n",
        "# Unfolding of a tensor\n",
        "tensor.unfold(mode=0)\n",
        "\n",
        "# Result preview\n",
        "print(tensor)\n",
        "tensor.data"
      ]
    },
    {
      "cell_type": "markdown",
      "metadata": {
        "toc-hr-collapsed": true,
        "id": "k5DfxjwWWmU1"
      },
      "source": [
        "## **Assigment 3**\n",
        "\n",
        "1. Create a tensor, $\\mathbf{\\underline{A}}$, of order 4, in such a way that its version unfolded along the second mode would have sizes `(5,72)`, that is $\\mathbf{A}_{(n)} \\in  \\mathbb{R}^{5 \\times 72}$. Validate your results by displaying the unfolded tensor."
      ]
    },
    {
      "cell_type": "markdown",
      "metadata": {
        "id": "X1XUX4I_WmU1"
      },
      "source": [
        "### Solution : Part 1"
      ]
    },
    {
      "cell_type": "code",
      "execution_count": 58,
      "metadata": {
        "id": "fdgNBaSQWmU1"
      },
      "outputs": [],
      "source": [
        "# Create a tensor\n",
        "# Define the tensor shape as (6, 5, 6, 2)\n",
        "tensor_shape = (6, 5, 6, 2)\n",
        "tensor = np.random.random(tensor_shape)\n"
      ]
    },
    {
      "cell_type": "code",
      "execution_count": 59,
      "metadata": {
        "colab": {
          "base_uri": "https://localhost:8080/"
        },
        "id": "IswHERZlWmU1",
        "outputId": "90c2508c-5b1c-4a65-e84d-f62c7ef741aa"
      },
      "outputs": [
        {
          "output_type": "stream",
          "name": "stdout",
          "text": [
            "(5, 72)\n"
          ]
        }
      ],
      "source": [
        "# Display unfolded version\n",
        "# Unfold the tensor along the second mode (axis 1)\n",
        "tensor = Tensor(tensor)\n",
        "unfolded_tensor = tensor.unfold(mode=1)\n",
        "\n",
        "\n",
        "print(unfolded_tensor.shape)"
      ]
    },
    {
      "cell_type": "markdown",
      "metadata": {
        "toc-hr-collapsed": false,
        "id": "74Q2W7DoWmU1"
      },
      "source": [
        "# Mode-n product\n",
        "<img src=\"https://github.com/IlyaKisil/dpm-coursework/blob/master/notebooks/imgs/mode_n_product.png?raw=1\" alt=\"Drawing\" style=\"width: 600px;\"/>\n",
        "\n",
        "The mode-$n$ product is a multiplication of a tensor  by a matrix along the $n^{th}$ mode of a tensor. This essentially means that each mode-$n$ fiber should be multiplied by this matrix. Mathematically, this can be expressed as:\n",
        "\n",
        "$$\\mathbf{\\underline{X}} \\times_n \\mathbf{A} = \\mathbf{\\underline{Y}} \\quad \\Leftrightarrow  \\quad \\mathbf{Y}_{(n)} = \\mathbf{A} \\mathbf{X}_{(n)}  $$"
      ]
    },
    {
      "cell_type": "code",
      "execution_count": 81,
      "metadata": {
        "colab": {
          "base_uri": "https://localhost:8080/"
        },
        "id": "DRiyzQGsWmU1",
        "outputId": "cbcaeec0-32b5-4851-c2bd-e9e235e10d1d"
      },
      "outputs": [
        {
          "output_type": "stream",
          "name": "stdout",
          "text": [
            "This tensor is of order 3 and consists of 40 elements.\n",
            "Sizes and names of its modes are (2, 5, 4) and ['mode-0', 'mode-1', 'mode-2'] respectively.\n"
          ]
        },
        {
          "output_type": "execute_result",
          "data": {
            "text/plain": [
              "array([[ 20,  23,  26,  29,  56,  59,  62,  65],\n",
              "       [ 56,  68,  80,  92, 200, 212, 224, 236],\n",
              "       [ 92, 113, 134, 155, 344, 365, 386, 407],\n",
              "       [128, 158, 188, 218, 488, 518, 548, 578],\n",
              "       [164, 203, 242, 281, 632, 671, 710, 749]])"
            ]
          },
          "metadata": {},
          "execution_count": 81
        }
      ],
      "source": [
        "I, J, K = 2, 3, 4\n",
        "J_new = 5\n",
        "\n",
        "# Create tensor\n",
        "array_3d = np.arange(I * J * K).reshape(I, J ,K)\n",
        "X = Tensor(array_3d)\n",
        "\n",
        "# Create matrix\n",
        "A = np.arange(J_new * J).reshape(J_new, J)\n",
        "\n",
        "# Performs Mode-n product\n",
        "Y = X.mode_n_product(A, mode=1, inplace=False)\n",
        "\n",
        "# Preview of resulting tensor\n",
        "print(Y)\n",
        "\n",
        "# Preview of its unfolded version\n",
        "Y.unfold(mode=1, inplace=False).data"
      ]
    },
    {
      "cell_type": "markdown",
      "metadata": {
        "toc-hr-collapsed": true,
        "id": "VBUqftfDWmU1"
      },
      "source": [
        "## **Assignment 4**\n",
        "\n",
        "1. Perform the mode-$n$ product of a 3-rd order tensor, $\\mathbf{\\underline{X}}$, with a matrix, $\\mathbf{A} \\in  \\mathbb{R}^{5 \\times 4}$, provided that the resulting tensor, $\\mathbf{\\underline{Y}}$, consists of `100` elements. Validate your results.\n",
        "\n",
        "> **Note:** You are encouraged to experiment with the optional parameter `inplace` and to investigate its effect on the result."
      ]
    },
    {
      "cell_type": "markdown",
      "metadata": {
        "id": "hUTha5y9WmU2"
      },
      "source": [
        "### Solution: Part 1"
      ]
    },
    {
      "cell_type": "code",
      "execution_count": 73,
      "metadata": {
        "id": "XADodmXlWmU2"
      },
      "outputs": [],
      "source": [
        "# Create original tensor\n",
        "I, J, K = 5, 4, 4\n",
        "J_new = 5\n",
        "\n",
        "# Create tensor\n",
        "array_3d = np.arange(I * J * K).reshape(I, J ,K)\n",
        "X = Tensor(array_3d)\n"
      ]
    },
    {
      "cell_type": "code",
      "execution_count": 74,
      "metadata": {
        "id": "Wjz0XHl-WmU5"
      },
      "outputs": [],
      "source": [
        "# Create matrix\n",
        "A = np.arange(J_new * J).reshape(J_new, J)\n"
      ]
    },
    {
      "cell_type": "code",
      "execution_count": 75,
      "metadata": {
        "id": "XUsyGTScWmU5"
      },
      "outputs": [],
      "source": [
        "# Perform mode-n product\n",
        "Y = X.mode_n_product(A, mode=1, inplace=False)"
      ]
    },
    {
      "cell_type": "code",
      "execution_count": 76,
      "metadata": {
        "colab": {
          "base_uri": "https://localhost:8080/"
        },
        "id": "IT9MkuQxWmU5",
        "outputId": "9b8a08eb-ebf7-4b8b-c623-00c47a656ccc"
      },
      "outputs": [
        {
          "output_type": "stream",
          "name": "stdout",
          "text": [
            "(5, 5, 4)\n"
          ]
        }
      ],
      "source": [
        "# Validate equivalence between the left and right hand side\n",
        "print(Y.shape)"
      ]
    },
    {
      "cell_type": "markdown",
      "metadata": {
        "id": "LqNREldxWmU6"
      },
      "source": [
        "# Properties of mode-n product\n",
        "\n",
        "1. For distinct modes in a series of multiplications, the order of the multiplication is irrelevent:\n",
        "\n",
        "    $$\\mathbf{\\underline{X}} \\times_n \\mathbf{A} \\times_m \\mathbf{B} = \\mathbf{\\underline{X}} \\times_m \\mathbf{B} \\times_n \\mathbf{A} \\quad (m \\neq n)$$\n",
        "\n",
        "1. However, this does not hold if the modes are the same :\n",
        "\n",
        "    $$\\mathbf{\\underline{X}} \\times_n \\mathbf{A} \\times_n \\mathbf{B} = \\mathbf{\\underline{X}} \\times_n (\\mathbf{B}\\mathbf{A})$$"
      ]
    },
    {
      "cell_type": "markdown",
      "metadata": {
        "toc-hr-collapsed": true,
        "id": "xjEqJcT3WmU6"
      },
      "source": [
        "## **Assignment 5**\n",
        "\n",
        "1. Validate both of the above properties empirically\n",
        "2. Prove the second property analytically\n",
        "\n",
        "> **Note:** Be aware of consequences of the optional parameter `inplace` (its default value is set to `True`)."
      ]
    },
    {
      "cell_type": "markdown",
      "metadata": {
        "id": "HbdysKieWmU6"
      },
      "source": [
        "### Solution: Part 1"
      ]
    },
    {
      "cell_type": "code",
      "execution_count": 99,
      "metadata": {
        "id": "KqrY8skpWmU6"
      },
      "outputs": [],
      "source": [
        "# Create tensor\n",
        "I, J, K = 2, 3, 4\n",
        "\n",
        "# Create tensor\n",
        "array_3d = np.arange(I * J * K).reshape(I, J ,K)\n",
        "X = Tensor(array_3d)"
      ]
    },
    {
      "cell_type": "code",
      "execution_count": 100,
      "metadata": {
        "id": "Vp6z_eK6WmU6"
      },
      "outputs": [],
      "source": [
        "# Create matrices\n",
        "J_new = 6;\n",
        "J_new_2 = 8\n",
        "J_new_3 = 10\n",
        "# Create matrix\n",
        "A = np.arange(J_new * J).reshape(J_new,J)\n",
        "B = np.arange(J_new_2 * K).reshape(J_new_2, K)\n",
        "C = np.arange(J_new_3 * J_new).reshape(J_new_3,J_new)"
      ]
    },
    {
      "cell_type": "code",
      "execution_count": 101,
      "metadata": {
        "colab": {
          "base_uri": "https://localhost:8080/"
        },
        "id": "Nd9OKsKrWmU6",
        "outputId": "28ba1498-bc0b-434f-afa1-c97937b809d6"
      },
      "outputs": [
        {
          "output_type": "stream",
          "name": "stdout",
          "text": [
            "True\n"
          ]
        }
      ],
      "source": [
        "# Validate property 1\n",
        "\n",
        "m = 2\n",
        "n = 1\n",
        "left = (X.mode_n_product(A, mode=n, inplace=False)).mode_n_product(B, mode=m, inplace=False)\n",
        "right = (X.mode_n_product(B, mode=m, inplace=False)).mode_n_product(A, mode=n, inplace=False)\n",
        "# Validate property 2\n",
        "print(left==right)\n"
      ]
    },
    {
      "cell_type": "code",
      "execution_count": 109,
      "metadata": {
        "colab": {
          "base_uri": "https://localhost:8080/"
        },
        "id": "WPIAT14tWmU6",
        "outputId": "2481c4fa-a863-49ce-ffa3-4a05932e1acd"
      },
      "outputs": [
        {
          "output_type": "stream",
          "name": "stdout",
          "text": [
            "This tensor is of order 3 and consists of 80 elements.\n",
            "Sizes and names of its modes are (2, 10, 4) and ['mode-0', 'mode-1', 'mode-2'] respectively.\n",
            "This tensor is of order 3 and consists of 80 elements.\n",
            "Sizes and names of its modes are (2, 10, 4) and ['mode-0', 'mode-1', 'mode-2'] respectively.\n",
            "True\n"
          ]
        }
      ],
      "source": [
        "n = 1\n",
        "left = (X.mode_n_product(A, mode=n, inplace=False)).mode_n_product(C, mode=n, inplace=False)\n",
        "D = np.dot(C,A)\n",
        "right = (X.mode_n_product(D, mode=1, inplace=False))\n",
        "print(left)\n",
        "print(right)\n",
        "print(left==right)"
      ]
    },
    {
      "cell_type": "markdown",
      "metadata": {
        "toc-hr-collapsed": true,
        "id": "pDhbgsJCWmU6"
      },
      "source": [
        "### Solution: Part 2\n",
        "\n",
        "Use [LaTeX syntax](https://stackoverflow.com/questions/13208286/how-to-write-latex-in-ipython-notebook) for analytical deriviations for the second property below.\n"
      ]
    },
    {
      "cell_type": "code",
      "execution_count": null,
      "metadata": {
        "id": "n2JCY1O2WmU6",
        "outputId": "fc49e6b4-fa2e-4072-89ee-3344b697612b"
      },
      "outputs": [
        {
          "data": {
            "text/latex": [
              "\n"
            ],
            "text/plain": [
              "<IPython.core.display.Latex object>"
            ]
          },
          "metadata": {},
          "output_type": "display_data"
        }
      ],
      "source": [
        "%%latex\n",
        "\n"
      ]
    }
  ],
  "metadata": {
    "kernelspec": {
      "display_name": "dpm-coursework",
      "language": "python",
      "name": "dpm-coursework"
    },
    "language_info": {
      "codemirror_mode": {
        "name": "ipython",
        "version": 3
      },
      "file_extension": ".py",
      "mimetype": "text/x-python",
      "name": "python",
      "nbconvert_exporter": "python",
      "pygments_lexer": "ipython3",
      "version": "3.6.5"
    },
    "toc-autonumbering": false,
    "toc-showcode": false,
    "toc-showmarkdowntxt": false,
    "colab": {
      "provenance": []
    }
  },
  "nbformat": 4,
  "nbformat_minor": 0
}